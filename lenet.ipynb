{
  "cells": [
    {
      "cell_type": "markdown",
      "metadata": {
        "id": "view-in-github",
        "colab_type": "text"
      },
      "source": [
        "<a href=\"https://colab.research.google.com/github/atousa79/SampleTelegramQuiz/blob/main/lenet.ipynb\" target=\"_parent\"><img src=\"https://colab.research.google.com/assets/colab-badge.svg\" alt=\"Open In Colab\"/></a>"
      ]
    },
    {
      "cell_type": "markdown",
      "metadata": {
        "id": "VB2ZoZWxvJ04"
      },
      "source": [
        "# Performing Required Imports"
      ]
    },
    {
      "cell_type": "code",
      "execution_count": null,
      "metadata": {
        "id": "YFbA0FWzvJ1W"
      },
      "outputs": [],
      "source": [
        "from keras.models import Sequential\n",
        "from keras.layers.convolutional import Convolution2D\n",
        "from keras.layers.convolutional import MaxPooling2D\n",
        "from keras.layers.core import Activation\n",
        "from keras.layers.core import Flatten\n",
        "from keras.layers.core import Dense\n",
        "from keras.datasets import mnist\n",
        "from tensorflow.keras.layers import Conv2D\n",
        "import numpy as np\n",
        "from keras.optimizers import SGD\n",
        "from keras.utils import np_utils\n",
        "from google.colab.patches import cv2_imshow\n",
        "import cv2"
      ]
    },
    {
      "cell_type": "markdown",
      "metadata": {
        "id": "47GKpELyvJ1c"
      },
      "source": [
        "# Loading MNIST Dataset"
      ]
    },
    {
      "cell_type": "code",
      "execution_count": null,
      "metadata": {
        "scrolled": true,
        "id": "1vnufZPvvJ1e"
      },
      "outputs": [],
      "source": [
        "(x_train,y_train),(x_test,y_test) = mnist.load_data()"
      ]
    },
    {
      "cell_type": "markdown",
      "metadata": {
        "id": "b8MHD_JdvJ1g"
      },
      "source": [
        "# Adding an extra dimension to make the input inline with the model"
      ]
    },
    {
      "cell_type": "code",
      "execution_count": null,
      "metadata": {
        "id": "VBJwxLw-vJ1i"
      },
      "outputs": [],
      "source": [
        "x_train = x_train[:,:,:,np.newaxis]\n",
        "x_test = x_test[:,:,:,np.newaxis]"
      ]
    },
    {
      "cell_type": "markdown",
      "metadata": {
        "id": "Zx5cX2D6vJ1j"
      },
      "source": [
        "# Transform the training and test labels into vectors in the range [0, classes] -- This generates a vector for each label, where the index of the label is set to 1 and all other entries to 0; in the case of MNIST, there are 10 class labels"
      ]
    },
    {
      "cell_type": "code",
      "execution_count": null,
      "metadata": {
        "id": "a2FCF8lMvJ1l"
      },
      "outputs": [],
      "source": [
        "y_train = np_utils.to_categorical(y_train, 10)\n",
        "y_test = np_utils.to_categorical(y_test, 10)"
      ]
    },
    {
      "cell_type": "markdown",
      "metadata": {
        "id": "kC6MWGZ5vJ1n"
      },
      "source": [
        "# Checking dimensions of data"
      ]
    },
    {
      "cell_type": "code",
      "execution_count": null,
      "metadata": {
        "colab": {
          "base_uri": "https://localhost:8080/"
        },
        "id": "M2D37X8WvJ1o",
        "outputId": "de37bc24-4e8d-4210-e945-0f3b4f2958d9"
      },
      "outputs": [
        {
          "output_type": "execute_result",
          "data": {
            "text/plain": [
              "((60000, 28, 28, 1), (60000, 10), (10000, 28, 28, 1), (10000, 10))"
            ]
          },
          "metadata": {},
          "execution_count": 14
        }
      ],
      "source": [
        "np.shape(x_train), np.shape(y_train), np.shape(x_test), np.shape(y_test)"
      ]
    },
    {
      "cell_type": "markdown",
      "metadata": {
        "id": "YryT0-YTvJ1q"
      },
      "source": [
        "# LeNet-5 Model "
      ]
    },
    {
      "cell_type": "code",
      "execution_count": null,
      "metadata": {
        "colab": {
          "base_uri": "https://localhost:8080/"
        },
        "id": "EfgBBk7TvJ1r",
        "outputId": "c467cfa7-ae73-4f70-9d6c-fe416ee010cc"
      },
      "outputs": [
        {
          "output_type": "stream",
          "name": "stdout",
          "text": [
            "----------------\n",
            "----------------\n"
          ]
        }
      ],
      "source": [
        "model = Sequential()\n",
        "\n",
        "# # first set of CONV => RELU => POOL\n",
        "# model.add(Conv2D(6, 5, 5, border_mode=\"same\", input_shape=(28, 28, 1)))\n",
        "# model.add(Activation(\"relu\"))\n",
        "# model.add(MaxPooling2D(pool_size=(2, 2), strides=(2, 2)))\n",
        "\n",
        "# # second set of CONV => RELU => POOL\n",
        "# model.add(Convolution2D(16, 5, 5, border_mode=\"same\"))\n",
        "# model.add(Activation(\"relu\"))\n",
        "# model.add(MaxPooling2D(pool_size=(2, 2), strides=(2, 2)))\n",
        "\n",
        "# # first set of FC => RELU layers\n",
        "# model.add(Flatten())\n",
        "# model.add(Dense(120))\n",
        "# model.add(Activation(\"relu\"))\n",
        "\n",
        "# # second set of FC => RELU layers\n",
        "# model.add(Dense(84))\n",
        "# model.add(Activation(\"relu\"))\n",
        "\n",
        "# # softmax classifier\n",
        "# model.add(Dense(10))\n",
        "# model.add(Activation(\"softmax\"))\n",
        "# model.compile(loss=\"categorical_crossentropy\", optimizer=SGD(lr=0.001), metrics=[\"accuracy\"])\n",
        "\n",
        "#Layer 1\n",
        "#Conv Layer 1\n",
        "model.add(Conv2D(filters=6, kernel_size=5, strides=1, activation='sigmoid', input_shape = (28,28,1)))\n",
        "#pooling layer 1\n",
        "model.add(MaxPooling2D(pool_size=2, strides=2))\n",
        "\n",
        "#Layer 2\n",
        "#Conv Layer 2\n",
        "model.add(Conv2D(filters=16, kernel_size=5, strides=1, activation='sigmoid', input_shape = (14,14,6)))\n",
        "#pooling layer 2\n",
        "model.add(MaxPooling2D(pool_size=2, strides=2))\n",
        "\n",
        "#Flatten\n",
        "model.add(Flatten())\n",
        "\n",
        "#Layer 3\n",
        "#Fully connected layer 1\n",
        "model.add(Dense(units=120, activation='sigmoid'))\n",
        "\n",
        "#Layer 4 \n",
        "#Fully connected layer 2\n",
        "model.add(Dense(units=84, activation='sigmoid'))\n",
        "\n",
        "#Layer 5 \n",
        "#Output Layer\n",
        "model.add(Dense(units=10, activation='softmax'))\n",
        "\n",
        "print(\"----------------\")\n",
        "model.compile(optimizer='adam', loss='categorical_crossentropy', metrics=['accuracy'])\n",
        "print(\"----------------\")\n"
      ]
    },
    {
      "cell_type": "markdown",
      "metadata": {
        "id": "I7GCdHWevJ1t"
      },
      "source": [
        "# Training The Model"
      ]
    },
    {
      "cell_type": "code",
      "execution_count": null,
      "metadata": {
        "scrolled": true,
        "colab": {
          "base_uri": "https://localhost:8080/"
        },
        "id": "wovo-NJ9vJ1v",
        "outputId": "153af155-d222-46f4-eba9-b42d950a18ea"
      },
      "outputs": [
        {
          "metadata": {
            "tags": null
          },
          "name": "stdout",
          "output_type": "stream",
          "text": [
            "Epoch 1/8\n",
            "4800/4800 [==============================] - 39s 8ms/step - loss: 0.4282 - accuracy: 0.8685 - val_loss: 0.1180 - val_accuracy: 0.9632\n",
            "Epoch 2/8\n",
            "4800/4800 [==============================] - 39s 8ms/step - loss: 0.1062 - accuracy: 0.9670 - val_loss: 0.0863 - val_accuracy: 0.9743\n",
            "Epoch 3/8\n",
            "4800/4800 [==============================] - 38s 8ms/step - loss: 0.0821 - accuracy: 0.9742 - val_loss: 0.0740 - val_accuracy: 0.9763\n",
            "Epoch 4/8\n",
            "4800/4800 [==============================] - 40s 8ms/step - loss: 0.0655 - accuracy: 0.9790 - val_loss: 0.0588 - val_accuracy: 0.9812\n",
            "Epoch 5/8\n",
            "4800/4800 [==============================] - 39s 8ms/step - loss: 0.0557 - accuracy: 0.9821 - val_loss: 0.0635 - val_accuracy: 0.9812\n",
            "Epoch 6/8\n",
            "4800/4800 [==============================] - 39s 8ms/step - loss: 0.0498 - accuracy: 0.9840 - val_loss: 0.0563 - val_accuracy: 0.9823\n",
            "Epoch 7/8\n",
            "4800/4800 [==============================] - 38s 8ms/step - loss: 0.0430 - accuracy: 0.9866 - val_loss: 0.0491 - val_accuracy: 0.9852\n",
            "Epoch 8/8\n",
            "4800/4800 [==============================] - 39s 8ms/step - loss: 0.0384 - accuracy: 0.9877 - val_loss: 0.0580 - val_accuracy: 0.9830\n"
          ]
        },
        {
          "data": {
            "text/plain": [
              "<keras.callbacks.History at 0x7fb58e28ae50>"
            ]
          },
          "execution_count": 19,
          "metadata": {},
          "output_type": "execute_result"
        }
      ],
      "source": [
        "# model.fit(x_train, y_train, batch_size=128, nb_epoch=20, verbose=1)\n",
        "model.fit(x_train, y_train, epochs=8, batch_size=10, validation_split=0.2)"
      ]
    },
    {
      "cell_type": "markdown",
      "metadata": {
        "id": "PzcJj4bEvJ1w"
      },
      "source": [
        "# Testing The Model"
      ]
    },
    {
      "cell_type": "code",
      "execution_count": null,
      "metadata": {
        "colab": {
          "base_uri": "https://localhost:8080/"
        },
        "id": "WH9C8zJQvJ1x",
        "outputId": "fe8c6e20-b6fc-48ec-9eac-a271ca74dc41"
      },
      "outputs": [
        {
          "output_type": "stream",
          "name": "stdout",
          "text": [
            "79/79 [==============================] - 3s 38ms/step - loss: 0.0547 - accuracy: 0.9826\n",
            "accuracy: 98.26%\n"
          ]
        }
      ],
      "source": [
        "(loss, accuracy) = model.evaluate(x_test, y_test, batch_size=128, verbose=1)\n",
        "print(\"accuracy: {:.2f}%\".format(accuracy * 100))"
      ]
    },
    {
      "cell_type": "markdown",
      "metadata": {
        "id": "7EJzDs3PvJ1z"
      },
      "source": [
        "# Visualizing output in the form of image"
      ]
    },
    {
      "cell_type": "code",
      "execution_count": null,
      "metadata": {
        "scrolled": true,
        "colab": {
          "base_uri": "https://localhost:8080/",
          "height": 1000
        },
        "id": "LHi-cyzIvJ10",
        "outputId": "d12190b4-4388-48c9-d21b-902f7ffef4ad"
      },
      "outputs": [
        {
          "output_type": "stream",
          "name": "stdout",
          "text": [
            "1/1 [==============================] - 0s 16ms/step\n",
            " Predicted: 8, Actual: 8\n"
          ]
        },
        {
          "output_type": "display_data",
          "data": {
            "text/plain": [
              "<PIL.Image.Image image mode=RGB size=96x96 at 0x7FB58A996390>"
            ],
            "image/png": "[encoded data removed]"
          },
          "metadata": {}
        },
        {
          "output_type": "stream",
          "name": "stdout",
          "text": [
            "1/1 [==============================] - 0s 13ms/step\n",
            " Predicted: 1, Actual: 1\n"
          ]
        },
        {
          "output_type": "display_data",
          "data": {
            "text/plain": [
              "<PIL.Image.Image image mode=RGB size=96x96 at 0x7FB58A11DAD0>"
            ],
            "image/png": "[encoded data removed]"
          },
          "metadata": {}
        },
        {
          "output_type": "stream",
          "name": "stdout",
          "text": [
            "1/1 [==============================] - 0s 14ms/step\n",
            " Predicted: 5, Actual: 5\n"
          ]
        },
        {
          "output_type": "display_data",
          "data": {
            "text/plain": [
              "<PIL.Image.Image image mode=RGB size=96x96 at 0x7FB58A130AD0>"
            ],
            "image/png": "[encoded data removed]"
          },
          "metadata": {}
        },
        {
          "output_type": "stream",
          "name": "stdout",
          "text": [
            "1/1 [==============================] - 0s 13ms/step\n",
            " Predicted: 3, Actual: 3\n"
          ]
        },
        {
          "output_type": "display_data",
          "data": {
            "text/plain": [
              "<PIL.Image.Image image mode=RGB size=96x96 at 0x7FB58A11DAD0>"
            ],
            "image/png": "[encoded data removed]"
          },
          "metadata": {}
        },
        {
          "output_type": "stream",
          "name": "stdout",
          "text": [
            "1/1 [==============================] - 0s 13ms/step\n",
            " Predicted: 7, Actual: 7\n"
          ]
        },
        {
          "output_type": "display_data",
          "data": {
            "text/plain": [
              "<PIL.Image.Image image mode=RGB size=96x96 at 0x7FB58A181B10>"
            ],
            "image/png": "[encoded data removed]"
          },
          "metadata": {}
        },
        {
          "output_type": "stream",
          "name": "stdout",
          "text": [
            "1/1 [==============================] - 0s 13ms/step\n",
            " Predicted: 9, Actual: 9\n"
          ]
        },
        {
          "output_type": "display_data",
          "data": {
            "text/plain": [
              "<PIL.Image.Image image mode=RGB size=96x96 at 0x7FB58A0C8E90>"
            ],
            "image/png": "[encoded data removed]"
          },
          "metadata": {}
        },
        {
          "output_type": "stream",
          "name": "stdout",
          "text": [
            "1/1 [==============================] - 0s 15ms/step\n",
            " Predicted: 2, Actual: 2\n"
          ]
        },
        {
          "output_type": "display_data",
          "data": {
            "text/plain": [
              "<PIL.Image.Image image mode=RGB size=96x96 at 0x7FB58A145C10>"
            ],
            "image/png": "[encoded data removed]"
          },
          "metadata": {}
        },
        {
          "output_type": "stream",
          "name": "stdout",
          "text": [
            "1/1 [==============================] - 0s 12ms/step\n",
            " Predicted: 1, Actual: 1\n"
          ]
        },
        {
          "output_type": "display_data",
          "data": {
            "text/plain": [
              "<PIL.Image.Image image mode=RGB size=96x96 at 0x7FB58A088750>"
            ],
            "image/png": "[encoded data removed]"
          },
          "metadata": {}
        },
        {
          "output_type": "stream",
          "name": "stdout",
          "text": [
            "1/1 [==============================] - 0s 15ms/step\n",
            " Predicted: 7, Actual: 7\n"
          ]
        },
        {
          "output_type": "display_data",
          "data": {
            "text/plain": [
              "<PIL.Image.Image image mode=RGB size=96x96 at 0x7FB58A088710>"
            ],
            "image/png": "[encoded data removed]"
          },
          "metadata": {}
        },
        {
          "output_type": "stream",
          "name": "stdout",
          "text": [
            "1/1 [==============================] - 0s 18ms/step\n",
            " Predicted: 9, Actual: 9\n"
          ]
        },
        {
          "output_type": "display_data",
          "data": {
            "text/plain": [
              "<PIL.Image.Image image mode=RGB size=96x96 at 0x7FB58A04DE90>"
            ],
            "image/png": "[encoded data removed]"
          },
          "metadata": {}
        }
      ],
      "source": [
        "# randomly select a few testing digits\n",
        "for i in np.random.choice(np.arange(0, len(y_test)), size=(10,)):\n",
        "    # classify the digit\n",
        "    probs = model.predict(x_test[np.newaxis, i])\n",
        "    prediction = probs.argmax(axis=1)\n",
        "\n",
        "    # resize the image to 96 x 96\n",
        "    image = (x_test[i][0] * 255).astype(\"uint8\")\n",
        "    image = cv2.merge([image] * 3)\n",
        "    image = cv2.resize(image, (96, 96), interpolation=cv2.INTER_LINEAR)\n",
        "    cv2.putText(image, str(prediction[0]), (5, 20), cv2.FONT_HERSHEY_SIMPLEX, 0.75, (0, 255, 0), 2)\n",
        "\n",
        "    # show the image and prediction\n",
        "    print(\" Predicted: {}, Actual: {}\".format(prediction[0], np.argmax(y_test[i])))\n",
        "    cv2_imshow(image)\n",
        "    # cv2.imshow(\"Digit\", image)\n",
        "    cv2.waitKey(0)\n",
        "cv2.destroyAllWindows()    "
      ]
    },
    {
      "cell_type": "code",
      "execution_count": null,
      "metadata": {
        "id": "zyQKTGcovJ12"
      },
      "outputs": [],
      "source": []
    }
  ],
  "metadata": {
    "kernelspec": {
      "display_name": "Python 2",
      "language": "python",
      "name": "python2"
    },
    "language_info": {
      "codemirror_mode": {
        "name": "ipython",
        "version": 2
      },
      "file_extension": ".py",
      "mimetype": "text/x-python",
      "name": "python",
      "nbconvert_exporter": "python",
      "pygments_lexer": "ipython2",
      "version": "2.7.13"
    },
    "colab": {
      "provenance": [],
      "include_colab_link": true
    }
  },
  "nbformat": 4,
  "nbformat_minor": 0
}